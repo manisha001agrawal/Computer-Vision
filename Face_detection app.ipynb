{
 "cells": [
  {
   "cell_type": "code",
   "execution_count": 2,
   "metadata": {},
   "outputs": [],
   "source": [
    "import cv2"
   ]
  },
  {
   "cell_type": "code",
   "execution_count": 4,
   "metadata": {},
   "outputs": [],
   "source": [
    "# face detection in photo\n",
    "photo= cv2.imread('gphoto1.jfif')\n",
    "model = cv2.CascadeClassifier('haarcascade_frontalface_default.xml')\n",
    "face= model.detectMultiScale(photo)\n",
    "if len(face) == 0:\n",
    "    cv2.imshow(\"Photo\",photo)\n",
    "    cv2.waitKey()\n",
    "else:\n",
    "    a = len(face)\n",
    "    while(a):\n",
    "        x1 = face[a-1][0]\n",
    "        y1 = face[a-1][1]\n",
    "        x2 = face[a-1][2]\n",
    "        y2 = face[a-1][3]\n",
    "        rphoto = cv2.rectangle(photo,(x1,y1),(x1+x2 , y1+y2),[0,0,255],2)\n",
    "        cv2.imshow(\"Photo\",photo)\n",
    "        a=a-1\n",
    "cv2.waitKey()\n",
    "cv2.destroyAllWindows()"
   ]
  },
  {
   "cell_type": "code",
   "execution_count": null,
   "metadata": {},
   "outputs": [],
   "source": [
    "len(face)"
   ]
  },
  {
   "cell_type": "code",
   "execution_count": 4,
   "metadata": {},
   "outputs": [],
   "source": [
    "# face detection on live video\n",
    "cap = cv2.VideoCapture(0)\n",
    "while True:\n",
    "    ret, photo = cap.read()\n",
    "    model = cv2.CascadeClassifier('haarcascade_frontalface_default.xml')\n",
    "    face= model.detectMultiScale(photo)\n",
    "    if len(face) == 0:\n",
    "        cv2.imshow(\"Photo\",photo)\n",
    "        if cv2.waitKey(1) == 13:\n",
    "            break\n",
    "    else:\n",
    "        a = len(face)\n",
    "        while(a):\n",
    "            x1 = face[a-1][0]\n",
    "            y1 = face[a-1][1]\n",
    "            x2 = face[a-1][2]\n",
    "            y2 = face[a-1][3]\n",
    "            rphoto = cv2.rectangle(photo,(x1,y1),(x1+x2 , y1+y2),[0,0,255],3)\n",
    "            cv2.imshow(\"Photo\",photo)\n",
    "            a=a-1\n",
    "            if cv2.waitKey(1) == 13:\n",
    "                break\n",
    "cv2.destroyAllWindows()\n",
    "cap.release()"
   ]
  },
  {
   "cell_type": "code",
   "execution_count": 5,
   "metadata": {},
   "outputs": [],
   "source": [
    "cap.release()"
   ]
  },
  {
   "cell_type": "code",
   "execution_count": null,
   "metadata": {},
   "outputs": [],
   "source": []
  }
 ],
 "metadata": {
  "kernelspec": {
   "display_name": "Python 3",
   "language": "python",
   "name": "python3"
  },
  "language_info": {
   "codemirror_mode": {
    "name": "ipython",
    "version": 3
   },
   "file_extension": ".py",
   "mimetype": "text/x-python",
   "name": "python",
   "nbconvert_exporter": "python",
   "pygments_lexer": "ipython3",
   "version": "3.8.3"
  }
 },
 "nbformat": 4,
 "nbformat_minor": 4
}
